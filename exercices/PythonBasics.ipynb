{
  "nbformat": 4,
  "nbformat_minor": 0,
  "metadata": {
    "colab": {
      "provenance": [],
      "authorship_tag": "ABX9TyPpptlaUE8Ai4UZJlEzV+Av",
      "include_colab_link": true
    },
    "kernelspec": {
      "name": "python3",
      "display_name": "Python 3"
    },
    "language_info": {
      "name": "python"
    }
  },
  "cells": [
    {
      "cell_type": "markdown",
      "metadata": {
        "id": "view-in-github",
        "colab_type": "text"
      },
      "source": [
        "<a href=\"https://colab.research.google.com/github/SimonOuellet/pythonM2-2024/blob/leprof/exercices/PythonBasics.ipynb\" target=\"_parent\"><img src=\"https://colab.research.google.com/assets/colab-badge.svg\" alt=\"Open In Colab\"/></a>"
      ]
    },
    {
      "cell_type": "markdown",
      "source": [
        "# Types de données Python"
      ],
      "metadata": {
        "id": "ufeqZ-_77nYk"
      }
    },
    {
      "cell_type": "markdown",
      "source": [
        "Corriger le code des cellules suivantes pour ne plus générer d'erreurs en ne modifiant que la première cellule."
      ],
      "metadata": {
        "id": "GOI_jUsG7iRx"
      }
    },
    {
      "cell_type": "code",
      "source": [
        "valeur1 = \"10\"\n",
        "valeur2 = 20\n",
        "valeur3 = \"30\"\n",
        "valeur4 = valeur3 + \"10\""
      ],
      "metadata": {
        "id": "WzYnFYS19Rf5"
      },
      "execution_count": 21,
      "outputs": []
    },
    {
      "cell_type": "code",
      "execution_count": null,
      "metadata": {
        "id": "7oKJk_Gj7gRk"
      },
      "outputs": [],
      "source": [
        "if valeur1 > 5:\n",
        "  print(\"valeur au dela de 10\")"
      ]
    },
    {
      "cell_type": "code",
      "source": [
        "print(valeur2.lower())"
      ],
      "metadata": {
        "id": "mQ0m0GDR84fp"
      },
      "execution_count": null,
      "outputs": []
    },
    {
      "cell_type": "code",
      "source": [
        "if valeur3 > 5:\n",
        "  print(\"valeur au dela de 10\")"
      ],
      "metadata": {
        "id": "1Y6HB0yS9lH4"
      },
      "execution_count": null,
      "outputs": []
    },
    {
      "cell_type": "code",
      "source": [
        "if valeur7 == 0:\n",
        "  print(\"valeur à zéro\")"
      ],
      "metadata": {
        "id": "--xcmpyt_DeH"
      },
      "execution_count": null,
      "outputs": []
    },
    {
      "cell_type": "markdown",
      "source": [
        "# List et Dict\n",
        "Modifier uniquement la première cellule pour que les cellules suivantes ne produisent plus d'erreurs."
      ],
      "metadata": {
        "id": "EcHH17nsAsFn"
      }
    },
    {
      "cell_type": "code",
      "source": [
        "mylist = {\"a\":1, \"b\":2}\n",
        "mydict = [\"a\",\"b\",\"c\"]"
      ],
      "metadata": {
        "id": "K-5vhEOCA9i-"
      },
      "execution_count": 25,
      "outputs": []
    },
    {
      "cell_type": "code",
      "source": [
        "for i in mylist.\n",
        "  print(i)"
      ],
      "metadata": {
        "colab": {
          "base_uri": "https://localhost:8080/"
        },
        "id": "KpqVBeUdBHcp",
        "outputId": "22ed2231-ea62-4fd2-e41c-c70416af1927"
      },
      "execution_count": 27,
      "outputs": [
        {
          "output_type": "stream",
          "name": "stdout",
          "text": [
            "a\n",
            "b\n"
          ]
        }
      ]
    }
  ]
}